{
 "cells": [
  {
   "cell_type": "markdown",
   "metadata": {},
   "source": [
    "# Jupyter notebooks"
   ]
  },
  {
   "cell_type": "code",
   "execution_count": 1,
   "metadata": {},
   "outputs": [
    {
     "ename": "ImportError",
     "evalue": "No module named pymongo",
     "output_type": "error",
     "traceback": [
      "\u001b[1;31m---------------------------------------------------------------------------\u001b[0m",
      "\u001b[1;31mImportError\u001b[0m                               Traceback (most recent call last)",
      "\u001b[1;32m<ipython-input-1-ca04e4548dec>\u001b[0m in \u001b[0;36m<module>\u001b[1;34m()\u001b[0m\n\u001b[0;32m      2\u001b[0m \u001b[1;32mfrom\u001b[0m \u001b[0mipywidgets\u001b[0m \u001b[1;32mimport\u001b[0m \u001b[0mwidgets\u001b[0m\u001b[1;33m\u001b[0m\u001b[0m\n\u001b[0;32m      3\u001b[0m \u001b[1;32mimport\u001b[0m \u001b[0mrequests\u001b[0m\u001b[1;33m\u001b[0m\u001b[0m\n\u001b[1;32m----> 4\u001b[1;33m \u001b[1;32mfrom\u001b[0m \u001b[0mpymongo\u001b[0m \u001b[1;32mimport\u001b[0m \u001b[0mMongoClient\u001b[0m\u001b[1;33m\u001b[0m\u001b[0m\n\u001b[0m",
      "\u001b[1;31mImportError\u001b[0m: No module named pymongo"
     ]
    }
   ],
   "source": [
    "from IPython.display import display\n",
    "from ipywidgets import widgets\n",
    "import requests\n",
    "from pymongo import MongoClient"
   ]
  },
  {
   "cell_type": "markdown",
   "metadata": {},
   "source": [
    "## Github"
   ]
  },
  {
   "cell_type": "code",
   "execution_count": null,
   "metadata": {},
   "outputs": [],
   "source": [
    "input_text = widgets.Text(description='UserName: ')\n",
    "repos = []\n",
    "\n",
    "def list_repos(sender):\n",
    "    user_name = input_text.value\n",
    "    response = requests.get('https://api.github.com/users/' + user_name + '/repos')\n",
    "    # easy way\n",
    "    #for repo in response.json():\n",
    "    #    repos.append(repo['name'])\n",
    "    \n",
    "    # list comprehension way\n",
    "    repos.extend([r['name'] for r in response.json()])\n",
    "        \n",
    "input_text.on_submit(list_repos)\n",
    "input_text"
   ]
  },
  {
   "cell_type": "code",
   "execution_count": null,
   "metadata": {},
   "outputs": [],
   "source": [
    "user_name = input_text.value\n",
    "mongo_client = MongoClient('mongodb://127.0.0.1:27017')\n",
    "db = mongo_client.repos\n",
    "\n",
    "drop_down = widgets.Dropdown(\n",
    "    options=repos,\n",
    "    description='Repositories:',\n",
    ")\n",
    "\n",
    "def on_change(sender):\n",
    "    if sender['type'] == 'change' and sender['name'] == 'value':\n",
    "        response = requests.get('https://api.github.com/repos/' + user_name + '/' + sender['new'])\n",
    "        record = {sender['new'] : response.json()['size']}\n",
    "        print record\n",
    "        result = db.sizes.insert_one(record)\n",
    "        \n",
    "drop_down.observe(on_change)\n",
    "drop_down"
   ]
  },
  {
   "cell_type": "markdown",
   "metadata": {},
   "source": [
    "## Posts / Comments"
   ]
  },
  {
   "cell_type": "code",
   "execution_count": null,
   "metadata": {},
   "outputs": [],
   "source": [
    "button = widgets.Button(description='Get posts')\n",
    "posts = []\n",
    "\n",
    "def on_button_clicked(sender):\n",
    "    response = requests.get('https://jsonplaceholder.typicode.com/posts')\n",
    "    # easy way\n",
    "    #for post in response.json():\n",
    "    #    posts.append(post['title'])\n",
    "    \n",
    "    # list comprehension way\n",
    "    posts.extend([p['title'] for p in response.json()])\n",
    "    \n",
    "button.on_click(on_button_clicked)\n",
    "button"
   ]
  },
  {
   "cell_type": "code",
   "execution_count": null,
   "metadata": {},
   "outputs": [],
   "source": [
    "mongo_client = MongoClient('mongodb://127.0.0.1:27017')\n",
    "db = mongo_client.posts\n",
    "\n",
    "drop_down = widgets.Dropdown(\n",
    "    options=posts,\n",
    "    description='Posts:',\n",
    ")\n",
    "\n",
    "def on_change(sender):\n",
    "    if sender['type'] == 'change' and sender['name'] == 'value':\n",
    "        response = requests.get('https://jsonplaceholder.typicode.com/post/' + str(sender.owner.index) + '/comments')\n",
    "        count = len(response.json())\n",
    "        record = {sender['new'] : count}\n",
    "        print record\n",
    "        result = db.sizes.insert_one(record)\n",
    "        \n",
    "drop_down.observe(on_change)\n",
    "drop_down"
   ]
  },
  {
   "cell_type": "code",
   "execution_count": null,
   "metadata": {
    "collapsed": true
   },
   "outputs": [],
   "source": []
  }
 ],
 "metadata": {
  "hide_input": false,
  "kernelspec": {
   "display_name": "Python 2",
   "language": "python",
   "name": "python2"
  },
  "language_info": {
   "codemirror_mode": {
    "name": "ipython",
    "version": 2
   },
   "file_extension": ".py",
   "mimetype": "text/x-python",
   "name": "python",
   "nbconvert_exporter": "python",
   "pygments_lexer": "ipython2",
   "version": "2.7.14"
  }
 },
 "nbformat": 4,
 "nbformat_minor": 2
}
